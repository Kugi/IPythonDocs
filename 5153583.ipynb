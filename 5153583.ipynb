{
 "metadata": {
  "name": "5153583"
 },
 "nbformat": 3,
 "nbformat_minor": 0,
 "worksheets": [
  {
   "cells": [
    {
     "cell_type": "markdown",
     "metadata": {},
     "source": [
      "http://nbviewer.ipython.org/5153583"
     ]
    },
    {
     "cell_type": "code",
     "collapsed": false,
     "input": [
      "import numpy as np\n",
      "\n",
      "data_headers=['age','workclass','fnlwgt','education','education_num','marital_status','occupation','relationship','race','sex','capital_gain'\\\n",
      "              ,'capital_loss','hours_per_week','native_country','salary']\n"
     ],
     "language": "python",
     "metadata": {},
     "outputs": [],
     "prompt_number": 5
    },
    {
     "cell_type": "code",
     "collapsed": false,
     "input": [
      "data=np.array(np.genfromtxt('dataset.txt', dtype=(int, 'S32',int, 'S32',int,'S32'\\\n",
      ",'S32','S32','S32','S32',int,int,int,'S32','S32'),delimiter=',',autostrip=True,names=data_headers))\n",
      "\n"
     ],
     "language": "python",
     "metadata": {},
     "outputs": [],
     "prompt_number": 7
    },
    {
     "cell_type": "code",
     "collapsed": false,
     "input": [
      "data.shape"
     ],
     "language": "python",
     "metadata": {},
     "outputs": [
      {
       "output_type": "pyout",
       "prompt_number": 8,
       "text": [
        "(32561,)"
       ]
      }
     ],
     "prompt_number": 8
    },
    {
     "cell_type": "code",
     "collapsed": false,
     "input": [
      "row_idx_to_delete=[]\n",
      "for i in range(0,len(data)):\n",
      "    if \"?\" in data[i]:\n",
      "        row_idx_to_delete.append(i)\n",
      "\n",
      "print len(row_idx_to_delete),\" records have incomplete data and will be deleted\"\n",
      "data=np.delete(data,row_idx_to_delete)\n",
      "\n"
     ],
     "language": "python",
     "metadata": {},
     "outputs": [
      {
       "output_type": "stream",
       "stream": "stdout",
       "text": [
        "2399  records have incomplete data and will be deleted\n"
       ]
      }
     ],
     "prompt_number": 9
    },
    {
     "cell_type": "code",
     "collapsed": false,
     "input": [
      "hist(data['age'],3);\n",
      "\n"
     ],
     "language": "python",
     "metadata": {},
     "outputs": [
      {
       "output_type": "display_data",
       "png": "[encoded data removed]",
       "text": [
        "<matplotlib.figure.Figure at 0x611c530>"
       ]
      }
     ],
     "prompt_number": 10
    },
    {
     "cell_type": "code",
     "collapsed": false,
     "input": [
      "idx_age_0=data['age']<30\n",
      "idx_age_1=(data['age']>=30) & (data['age']<=55)\n",
      "idx_age_2=data['age']>55\n",
      "\n",
      "\n",
      "\n",
      "data['age'][idx_age_0]=0\n",
      "data['age'][idx_age_1]=1\n",
      "data['age'][idx_age_2]=2\n",
      "\n"
     ],
     "language": "python",
     "metadata": {},
     "outputs": [],
     "prompt_number": 11
    },
    {
     "cell_type": "code",
     "collapsed": false,
     "input": [
      "workclass_attributes=[\"Private\", \"Self-emp-not-inc\", \"Self-emp-inc\", \"Federal-gov\",\\\n",
      " \"Local-gov\", \"State-gov\", \"Without-pay\", \"Never-worked\"]\n",
      "idx_workclass={}\n",
      "for workclass in workclass_attributes:\n",
      "    idx_workclass[workclass]=data[\"workclass\"]==workclass\n",
      "\n",
      "#Converting the datatype to integer now\n",
      "for i in range(0,len(workclass_attributes)):\n",
      "    data[\"workclass\"][idx_workclass[workclass_attributes[i]]]=int(i)\n",
      "\n"
     ],
     "language": "python",
     "metadata": {},
     "outputs": [],
     "prompt_number": 12
    },
    {
     "cell_type": "code",
     "collapsed": false,
     "input": [
      "a=hist(data['fnlwgt'],8)\n",
      "means=[(a[1][i]+a[1][i+1])/2.0 for i in range(0,len(a[1])-1)]\n",
      "means,a[0]\n",
      "\n"
     ],
     "language": "python",
     "metadata": {},
     "outputs": [
      {
       "output_type": "pyout",
       "prompt_number": 13,
       "text": [
        "([105702.5,\n",
        "  289569.5,\n",
        "  473436.5,\n",
        "  657303.5,\n",
        "  841170.5,\n",
        "  1025037.5,\n",
        "  1208904.5,\n",
        "  1392771.5],\n",
        " array([18283, 10410,  1291,   142,    21,     7,     5,     3]))"
       ]
      },
      {
       "output_type": "display_data",
       "png": "[encoded data removed]",
       "text": [
        "<matplotlib.figure.Figure at 0x7f87750>"
       ]
      }
     ],
     "prompt_number": 13
    },
    {
     "cell_type": "code",
     "collapsed": false,
     "input": [
      "idx_wgt_0=data['fnlwgt']<=105702\n",
      "idx_wgt_1=(data['fnlwgt']>=105702) & (data['fnlwgt']<=289569) \n",
      "idx_wgt_2=data['fnlwgt']>=289569\n",
      "\n",
      "\n",
      "data['fnlwgt'][idx_wgt_0]=0\n",
      "data['fnlwgt'][idx_wgt_1]=1\n",
      "data['fnlwgt'][idx_wgt_2]=2\n",
      "\n"
     ],
     "language": "python",
     "metadata": {},
     "outputs": [],
     "prompt_number": 14
    },
    {
     "cell_type": "code",
     "collapsed": false,
     "input": [
      "education_attributes=[\"Bachelors\", \"Some-college\", \"11th\", \"HS-grad\", \"Prof-school\", \"Assoc-acdm\", \"Assoc-voc\"\\\n",
      ", \"9th\", \"7th-8th\", \"12th\", \"Masters\", \"1st-4th\", \"10th\", \"Doctorate\", \"5th-6th\", \"Preschool\"]\n",
      "\n"
     ],
     "language": "python",
     "metadata": {},
     "outputs": [],
     "prompt_number": 15
    },
    {
     "cell_type": "code",
     "collapsed": false,
     "input": [
      "idx_education={}\n",
      "for education in education_attributes:\n",
      "    idx_education[education]=data[\"education\"]==education\n",
      "\n",
      "#Converting the datatype to integer now\n",
      "\n",
      "for i in range(0,len(education_attributes)):\n",
      "    data[\"education\"][idx_education[education_attributes[i]]]=int(i)\n",
      "\n"
     ],
     "language": "python",
     "metadata": {},
     "outputs": [],
     "prompt_number": 16
    },
    {
     "cell_type": "code",
     "collapsed": false,
     "input": [
      "a=hist(data['education_num'],4)\n",
      "means=[(a[1][i]+a[1][i+1])/2.0 for i in range(0,len(a[1])-1)]\n",
      "means,a[0]\n",
      "\n"
     ],
     "language": "python",
     "metadata": {},
     "outputs": [
      {
       "output_type": "pyout",
       "prompt_number": 17,
       "text": [
        "([2.875, 6.625, 10.375, 14.125], array([ 1041,  2700, 18833,  7588]))"
       ]
      },
      {
       "output_type": "display_data",
       "png": "[encoded data removed]",
       "text": [
        "<matplotlib.figure.Figure at 0x7f87ad0>"
       ]
      }
     ],
     "prompt_number": 17
    },
    {
     "cell_type": "code",
     "collapsed": false,
     "input": [
      "idx_enum_0=data['education_num']<=means[0]\n",
      "idx_enum_1=(data['education_num']>means[0]) & (data['education_num']<=means[1]) \n",
      "idx_enum_2=(data['education_num']>=means[1]) & (data['education_num']<=means[2])\n",
      "idx_enum_3=data['education_num']>means[2]\n",
      "\n",
      "\n",
      "data['education_num'][idx_enum_0]=0\n",
      "data['education_num'][idx_enum_1]=1\n",
      "data['education_num'][idx_enum_2]=2\n",
      "data['education_num'][idx_enum_3]=3\n",
      "\n"
     ],
     "language": "python",
     "metadata": {},
     "outputs": [],
     "prompt_number": 18
    },
    {
     "cell_type": "code",
     "collapsed": false,
     "input": [
      "marital_status_attributes=['Married-civ-spouse', 'Divorced', 'Never-married', 'Separated', 'Widowed',\\\n",
      " 'Married-spouse-absent','Married-AF-spouse']\n",
      "\n"
     ],
     "language": "python",
     "metadata": {},
     "outputs": [],
     "prompt_number": 19
    },
    {
     "cell_type": "code",
     "collapsed": false,
     "input": [
      "idx_marital_status={}\n",
      "for marital_status in marital_status_attributes:\n",
      "    idx_marital_status[marital_status]=data[\"marital_status\"]==marital_status\n",
      "\n",
      "#Converting the datatype to integer now\n",
      "\n",
      "for i in range(0,len(marital_status_attributes)):\n",
      "    data[\"marital_status\"][idx_marital_status[marital_status_attributes[i]]]=int(i)\n",
      "\n"
     ],
     "language": "python",
     "metadata": {},
     "outputs": [],
     "prompt_number": 20
    },
    {
     "cell_type": "code",
     "collapsed": false,
     "input": [
      "occupation_attributes=['Tech-support', 'Craft-repair', 'Other-service', 'Sales', 'Exec-managerial', 'Prof-specialty', 'Handlers-cleaners',\\\n",
      " 'Machine-op-inspct', 'Adm-clerical', 'Farming-fishing', 'Transport-moving', 'Priv-house-serv', 'Protective-serv', 'Armed-Forces']\n",
      "\n"
     ],
     "language": "python",
     "metadata": {},
     "outputs": [],
     "prompt_number": 21
    },
    {
     "cell_type": "code",
     "collapsed": false,
     "input": [
      "idx_occupation={}\n",
      "for occupation in occupation_attributes:\n",
      "    idx_occupation[occupation]=data[\"occupation\"]==occupation\n",
      "\n",
      "#Converting the datatype to integer now\n",
      "\n",
      "for i in range(0,len(occupation_attributes)):\n",
      "    data[\"occupation\"][idx_occupation[occupation_attributes[i]]]=int(i)\n",
      "\n"
     ],
     "language": "python",
     "metadata": {},
     "outputs": [],
     "prompt_number": 22
    },
    {
     "cell_type": "code",
     "collapsed": false,
     "input": [
      "relationship_attributes=['Wife', 'Own-child', 'Husband', 'Not-in-family', 'Other-relative', 'Unmarried']\n",
      "\n"
     ],
     "language": "python",
     "metadata": {},
     "outputs": [],
     "prompt_number": 23
    },
    {
     "cell_type": "code",
     "collapsed": false,
     "input": [
      "idx_relationship={}\n",
      "for relationship in relationship_attributes:\n",
      "    idx_relationship[relationship]=data[\"relationship\"]==relationship\n",
      "\n",
      "#Converting the datatype to integer now\n",
      "\n",
      "for i in range(0,len(relationship_attributes)):\n",
      "    data[\"relationship\"][idx_relationship[relationship_attributes[i]]]=int(i)\n",
      "\n"
     ],
     "language": "python",
     "metadata": {},
     "outputs": [],
     "prompt_number": 24
    },
    {
     "cell_type": "code",
     "collapsed": false,
     "input": [
      "race_attributes=['White', 'Asian-Pac-Islander', 'Amer-Indian-Eskimo', 'Other', 'Black']\n",
      "\n"
     ],
     "language": "python",
     "metadata": {},
     "outputs": [],
     "prompt_number": 25
    },
    {
     "cell_type": "code",
     "collapsed": false,
     "input": [
      "idx_race={}\n",
      "for race in race_attributes:\n",
      "    idx_race[race]=data[\"race\"]==race\n",
      "\n",
      "#Converting the datatype to integer now\n",
      "\n",
      "for i in range(0,len(race_attributes)):\n",
      "    data[\"race\"][idx_race[race_attributes[i]]]=int(i)\n",
      "\n"
     ],
     "language": "python",
     "metadata": {},
     "outputs": [],
     "prompt_number": 26
    },
    {
     "cell_type": "code",
     "collapsed": false,
     "input": [
      "sex_attributes=['Female', 'Male']\n",
      "\n"
     ],
     "language": "python",
     "metadata": {},
     "outputs": [],
     "prompt_number": 27
    },
    {
     "cell_type": "code",
     "collapsed": false,
     "input": [
      "idx_sex={}\n",
      "for sex in sex_attributes:\n",
      "    idx_sex[sex]=data[\"sex\"]==sex\n",
      "\n",
      "#Converting the datatype to integer now\n",
      "\n",
      "for i in range(0,len(sex_attributes)):\n",
      "    data[\"sex\"][idx_sex[sex_attributes[i]]]=int(i)\n",
      "\n"
     ],
     "language": "python",
     "metadata": {},
     "outputs": [],
     "prompt_number": 28
    },
    {
     "cell_type": "code",
     "collapsed": false,
     "input": [
      "a=hist(data['capital_gain'],2)\n",
      "means=[(a[1][i]+a[1][i+1])/2.0 for i in range(0,len(a[1])-1)]\n",
      "means,a[0]\n",
      "\n"
     ],
     "language": "python",
     "metadata": {},
     "outputs": [
      {
       "output_type": "pyout",
       "prompt_number": 29,
       "text": [
        "([24999.75, 74999.25], array([30014,   148]))"
       ]
      },
      {
       "output_type": "display_data",
       "png": "[encoded data removed]",
       "text": [
        "<matplotlib.figure.Figure at 0x619d310>"
       ]
      }
     ],
     "prompt_number": 29
    },
    {
     "cell_type": "code",
     "collapsed": false,
     "input": [
      "idx_cap_gain_0=data['capital_gain']<=means[0]\n",
      "idx_cap_gain_1=(data['capital_gain']>means[0]) & (data['capital_gain']<=means[1]) \n",
      "\n",
      "\n",
      "data['capital_gain'][idx_cap_gain_0]=0\n",
      "data['capital_gain'][idx_cap_gain_1]=1\n",
      "\n"
     ],
     "language": "python",
     "metadata": {},
     "outputs": [],
     "prompt_number": 30
    },
    {
     "cell_type": "code",
     "collapsed": false,
     "input": [
      "a=hist(data['capital_loss'],2)\n",
      "means=[(a[1][i]+a[1][i+1])/2.0 for i in range(0,len(a[1])-1)]\n",
      "means,a[0]\n",
      "\n"
     ],
     "language": "python",
     "metadata": {},
     "outputs": [
      {
       "output_type": "pyout",
       "prompt_number": 31,
       "text": [
        "([1089.0, 3267.0], array([29955,   207]))"
       ]
      },
      {
       "output_type": "display_data",
       "png": "[encoded data removed]",
       "text": [
        "<matplotlib.figure.Figure at 0x8035b10>"
       ]
      }
     ],
     "prompt_number": 31
    },
    {
     "cell_type": "code",
     "collapsed": false,
     "input": [
      "idx_cap_loss_0=data['capital_loss']<=means[0]\n",
      "idx_cap_loss_1=(data['capital_loss']>means[0]) & (data['capital_loss']<=means[1]) \n",
      "\n",
      "\n",
      "data['capital_loss'][idx_cap_loss_0]=0\n",
      "data['capital_loss'][idx_cap_loss_1]=1\n",
      "\n"
     ],
     "language": "python",
     "metadata": {},
     "outputs": [],
     "prompt_number": 32
    },
    {
     "cell_type": "code",
     "collapsed": false,
     "input": [
      "a=hist(data['hours_per_week'],4)\n",
      "means=[(a[1][i]+a[1][i+1])/2.0 for i in range(0,len(a[1])-1)]\n",
      "means,a[0]\n",
      "\n"
     ],
     "language": "python",
     "metadata": {},
     "outputs": [
      {
       "output_type": "pyout",
       "prompt_number": 33,
       "text": [
        "([13.25, 37.75, 62.25, 86.75], array([ 3261, 20708,  5798,   395]))"
       ]
      },
      {
       "output_type": "display_data",
       "png": "[encoded data removed]",
       "text": [
        "<matplotlib.figure.Figure at 0x8017830>"
       ]
      }
     ],
     "prompt_number": 33
    },
    {
     "cell_type": "code",
     "collapsed": false,
     "input": [
      "idx_hours_0=data['hours_per_week']<=means[0]\n",
      "idx_hours_1=(data['hours_per_week']>means[0]) & (data['hours_per_week']<=means[1]) \n",
      "idx_hours_2=(data['hours_per_week']>=means[1]) & (data['hours_per_week']<=means[2])\n",
      "idx_hours_3=data['hours_per_week']>means[2]\n",
      "\n",
      "\n",
      "data['hours_per_week'][idx_hours_0]=0\n",
      "data['hours_per_week'][idx_hours_1]=1\n",
      "data['hours_per_week'][idx_hours_2]=2\n",
      "data['hours_per_week'][idx_hours_3]=3\n",
      "\n"
     ],
     "language": "python",
     "metadata": {},
     "outputs": [],
     "prompt_number": 34
    },
    {
     "cell_type": "code",
     "collapsed": false,
     "input": [
      "native_country_attributes=['United-States', 'Cambodia', 'England', 'Puerto-Rico', 'Canada', 'Germany', 'Outlying-US(Guam-USVI-etc)'\\\n",
      ",'India', 'Japan', 'Greece', 'South', 'China', 'Cuba', 'Iran', 'Honduras', 'Philippines', 'Italy', 'Poland', 'Jamaica', 'Vietnam'\n",
      ", 'Mexico', 'Portugal', 'Ireland', 'France', 'Dominican-Republic', 'Laos', 'Ecuador', 'Taiwan', 'Haiti', 'Columbia', 'Hungary', 'Guatemala',\n",
      "'Nicaragua', 'Scotland', 'Thailand', 'Yugoslavia', 'El-Salvador', 'Trinadad&Tobago', 'Peru', 'Hong', 'Holand-Netherlands']\n",
      "\n"
     ],
     "language": "python",
     "metadata": {},
     "outputs": [],
     "prompt_number": 35
    },
    {
     "cell_type": "code",
     "collapsed": false,
     "input": [
      "idx_native_country={}\n",
      "for native_country in native_country_attributes:\n",
      "    idx_native_country[native_country]=data[\"native_country\"]==native_country\n",
      "\n",
      "#Converting the datatype to integer now\n",
      "\n",
      "for i in range(0,len(native_country_attributes)):\n",
      "    data[\"native_country\"][idx_native_country[native_country_attributes[i]]]=int(i)\n",
      "\n"
     ],
     "language": "python",
     "metadata": {},
     "outputs": [],
     "prompt_number": 36
    },
    {
     "cell_type": "code",
     "collapsed": false,
     "input": [
      "salary_attributes=['<=50K','>50K']\n",
      "\n"
     ],
     "language": "python",
     "metadata": {},
     "outputs": [],
     "prompt_number": 37
    },
    {
     "cell_type": "code",
     "collapsed": false,
     "input": [
      "idx_salary={}\n",
      "for salary in salary_attributes:\n",
      "    idx_salary[salary]=data[\"salary\"]==salary\n",
      "\n",
      "#Converting the datatype to integer now\n",
      "\n",
      "for i in range(0,len(salary_attributes)):\n",
      "    data[\"salary\"][idx_salary[salary_attributes[i]]]=int(i)\n",
      "\n"
     ],
     "language": "python",
     "metadata": {},
     "outputs": [],
     "prompt_number": 38
    },
    {
     "cell_type": "code",
     "collapsed": false,
     "input": [
      "np.savetxt('filtered.txt',data,fmt=\"%s\",delimiter=',')\n",
      "\n"
     ],
     "language": "python",
     "metadata": {},
     "outputs": [],
     "prompt_number": 39
    },
    {
     "cell_type": "code",
     "collapsed": false,
     "input": [
      "from sklearn import preprocessing\n",
      "\n"
     ],
     "language": "python",
     "metadata": {},
     "outputs": [],
     "prompt_number": 40
    },
    {
     "cell_type": "code",
     "collapsed": false,
     "input": [
      "filtered_data=np.array(np.genfromtxt('filtered.txt', delimiter=',',autostrip=True))\n",
      "\n"
     ],
     "language": "python",
     "metadata": {},
     "outputs": [],
     "prompt_number": 41
    },
    {
     "cell_type": "code",
     "collapsed": false,
     "input": [
      "scaled_filtered_data=preprocessing.scale(filtered_data)\n",
      "\n"
     ],
     "language": "python",
     "metadata": {},
     "outputs": [],
     "prompt_number": 43
    },
    {
     "cell_type": "code",
     "collapsed": false,
     "input": [
      "salary=scaled_filtered_data[:,14]\n",
      "scaled_filtered_data=scaled_filtered_data[:,:-1]\n",
      "\n"
     ],
     "language": "python",
     "metadata": {},
     "outputs": [],
     "prompt_number": 44
    },
    {
     "cell_type": "code",
     "collapsed": false,
     "input": [
      "print salary\n",
      "\n"
     ],
     "language": "python",
     "metadata": {},
     "outputs": [
      {
       "output_type": "stream",
       "stream": "stdout",
       "text": [
        "[-0.57569132 -0.57569132 -0.57569132 ..., -0.57569132 -0.57569132\n",
        "  1.73704199]\n"
       ]
      }
     ],
     "prompt_number": 45
    },
    {
     "cell_type": "code",
     "collapsed": false,
     "input": [
      "print scaled_filtered_data.shape\n",
      "\n"
     ],
     "language": "python",
     "metadata": {},
     "outputs": [
      {
       "output_type": "stream",
       "stream": "stdout",
       "text": [
        "(30162, 14)\n"
       ]
      }
     ],
     "prompt_number": 46
    },
    {
     "cell_type": "code",
     "collapsed": false,
     "input": [
      "from sklearn import svm\n",
      "salary2=np.array([-1]*len(salary))\n",
      "for i in range(0,len(salary2)):\n",
      "    if salary[i]>0:\n",
      "        salary2[i]=1\n",
      "\n"
     ],
     "language": "python",
     "metadata": {},
     "outputs": [],
     "prompt_number": 47
    },
    {
     "cell_type": "code",
     "collapsed": false,
     "input": [
      "import random,math\n",
      "training_size_fraction=.09\n",
      "test_idx=np.array(random.sample(xrange(len(salary2)), int((1-training_size_fraction)*len(salary2))))\n",
      "train_idx=np.array([x for x in xrange(len(salary2)) if x not in test_idx])\n",
      "test_samples=scaled_filtered_data[test_idx]\n",
      "train_samples=scaled_filtered_data[train_idx]\n",
      "test_out=salary2[test_idx]\n",
      "train_out=salary2[train_idx]\n",
      "\n"
     ],
     "language": "python",
     "metadata": {},
     "outputs": [],
     "prompt_number": 48
    },
    {
     "cell_type": "code",
     "collapsed": false,
     "input": [
      "import time\n",
      "\n"
     ],
     "language": "python",
     "metadata": {},
     "outputs": [],
     "prompt_number": 49
    },
    {
     "cell_type": "code",
     "collapsed": false,
     "input": [
      "clf = svm.SVC(kernel='linear')\n",
      "libsvm_start=time.time()\n",
      "\n"
     ],
     "language": "python",
     "metadata": {},
     "outputs": [],
     "prompt_number": 50
    },
    {
     "cell_type": "code",
     "collapsed": false,
     "input": [
      "clf.fit(train_samples, train_out)\n",
      "libsvm_train_end=time.time()\n",
      "\n"
     ],
     "language": "python",
     "metadata": {},
     "outputs": [],
     "prompt_number": 51
    },
    {
     "cell_type": "code",
     "collapsed": false,
     "input": [
      "a=np.array(clf.predict(test_samples).astype(int))\n",
      "libsvm_test_end=time.time()\n",
      "c=a==np.array(test_out)\n",
      "c=np.array(a)==np.array(test_out)\n",
      "\n"
     ],
     "language": "python",
     "metadata": {},
     "outputs": [],
     "prompt_number": 52
    },
    {
     "cell_type": "code",
     "collapsed": false,
     "input": [
      "print \"Accuracy                                    : \",str(sum(c)*100.0/len(a))+\" %\"\n",
      "print \"Number of support vectors for positive class: \",clf.n_support_[0]\n",
      "print \"Number of support vectors for negative class: \",clf.n_support_[1]\n",
      "print \"Time Required for training                  : \",str(libsvm_train_end-libsvm_start)+\" s\"\n",
      "print \"Time Required for testing                   : \",str(libsvm_test_end-libsvm_train_end)+\" s\"\n",
      "\n"
     ],
     "language": "python",
     "metadata": {},
     "outputs": [
      {
       "output_type": "stream",
       "stream": "stdout",
       "text": [
        "Accuracy                                    :  81.2402084016 %\n",
        "Number of support vectors for positive class:  626\n",
        "Number of support vectors for negative class:  623\n",
        "Time Required for training                  :  2.91400003433 s\n",
        "Time Required for testing                   :  2.96700000763 s\n"
       ]
      }
     ],
     "prompt_number": 53
    },
    {
     "cell_type": "code",
     "collapsed": false,
     "input": [
      "test_data_string=\"\"\n",
      "for i in range(0,len(test_out)):\n",
      "    if test_out[i]==1:\n",
      "        c='+1'\n",
      "    else:\n",
      "        c='-1'\n",
      "    test_data_string=test_data_string+c\n",
      "    for j in range(0,14):\n",
      "        test_data_string=test_data_string+\" \"+str(j+1)+\":\"+str(test_samples[i][j])\n",
      "    test_data_string=test_data_string+\"\\n\"\n",
      "f=open('test.dat','w')\n",
      "f.write(test_data_string)\n",
      "        \n",
      "\n"
     ],
     "language": "python",
     "metadata": {},
     "outputs": [
      {
       "ename": "KeyboardInterrupt",
       "evalue": "",
       "output_type": "pyerr",
       "traceback": [
        "\u001b[1;31m---------------------------------------------------------------------------\u001b[0m\n\u001b[1;31mKeyboardInterrupt\u001b[0m                         Traceback (most recent call last)",
        "\u001b[1;32m<ipython-input-54-13076534cbb2>\u001b[0m in \u001b[0;36m<module>\u001b[1;34m()\u001b[0m\n\u001b[0;32m      7\u001b[0m     \u001b[0mtest_data_string\u001b[0m\u001b[1;33m=\u001b[0m\u001b[0mtest_data_string\u001b[0m\u001b[1;33m+\u001b[0m\u001b[0mc\u001b[0m\u001b[1;33m\u001b[0m\u001b[0m\n\u001b[0;32m      8\u001b[0m     \u001b[1;32mfor\u001b[0m \u001b[0mj\u001b[0m \u001b[1;32min\u001b[0m \u001b[0mrange\u001b[0m\u001b[1;33m(\u001b[0m\u001b[1;36m0\u001b[0m\u001b[1;33m,\u001b[0m\u001b[1;36m14\u001b[0m\u001b[1;33m)\u001b[0m\u001b[1;33m:\u001b[0m\u001b[1;33m\u001b[0m\u001b[0m\n\u001b[1;32m----> 9\u001b[1;33m         \u001b[0mtest_data_string\u001b[0m\u001b[1;33m=\u001b[0m\u001b[0mtest_data_string\u001b[0m\u001b[1;33m+\u001b[0m\u001b[1;34m\" \"\u001b[0m\u001b[1;33m+\u001b[0m\u001b[0mstr\u001b[0m\u001b[1;33m(\u001b[0m\u001b[0mj\u001b[0m\u001b[1;33m+\u001b[0m\u001b[1;36m1\u001b[0m\u001b[1;33m)\u001b[0m\u001b[1;33m+\u001b[0m\u001b[1;34m\":\"\u001b[0m\u001b[1;33m+\u001b[0m\u001b[0mstr\u001b[0m\u001b[1;33m(\u001b[0m\u001b[0mtest_samples\u001b[0m\u001b[1;33m[\u001b[0m\u001b[0mi\u001b[0m\u001b[1;33m]\u001b[0m\u001b[1;33m[\u001b[0m\u001b[0mj\u001b[0m\u001b[1;33m]\u001b[0m\u001b[1;33m)\u001b[0m\u001b[1;33m\u001b[0m\u001b[0m\n\u001b[0m\u001b[0;32m     10\u001b[0m     \u001b[0mtest_data_string\u001b[0m\u001b[1;33m=\u001b[0m\u001b[0mtest_data_string\u001b[0m\u001b[1;33m+\u001b[0m\u001b[1;34m\"\\n\"\u001b[0m\u001b[1;33m\u001b[0m\u001b[0m\n\u001b[0;32m     11\u001b[0m \u001b[0mf\u001b[0m\u001b[1;33m=\u001b[0m\u001b[0mopen\u001b[0m\u001b[1;33m(\u001b[0m\u001b[1;34m'test.dat'\u001b[0m\u001b[1;33m,\u001b[0m\u001b[1;34m'w'\u001b[0m\u001b[1;33m)\u001b[0m\u001b[1;33m\u001b[0m\u001b[0m\n",
        "\u001b[1;31mKeyboardInterrupt\u001b[0m: "
       ]
      }
     ],
     "prompt_number": 54
    },
    {
     "cell_type": "code",
     "collapsed": false,
     "input": [
      "train_data_string=\"\"\n",
      "for i in range(0,len(train_out)):\n",
      "    if train_out[i]==1:\n",
      "        c='+1'\n",
      "    else:\n",
      "        c='-1'\n",
      "    train_data_string=train_data_string+c\n",
      "    for j in range(0,14):\n",
      "        train_data_string=train_data_string+\" \"+str(j+1)+\":\"+str(train_samples[i][j])\n",
      "    train_data_string=train_data_string+\"\\n\"\n",
      "f=open('train.dat','w')\n",
      "f.write(train_data_string)\n",
      "\n"
     ],
     "language": "python",
     "metadata": {},
     "outputs": []
    },
    {
     "cell_type": "code",
     "collapsed": false,
     "input": [
      "import subprocess\n",
      "\n"
     ],
     "language": "python",
     "metadata": {},
     "outputs": []
    },
    {
     "cell_type": "code",
     "collapsed": false,
     "input": [
      "svmlight_start=time.time()\n",
      "p = subprocess.Popen('./svm_learn train.dat model', shell=True, stdout=subprocess.PIPE, stderr=subprocess.STDOUT)\n",
      "svmlight_train_end=time.time()\n",
      "train_output= p.stdout.readlines()\n",
      "\n"
     ],
     "language": "python",
     "metadata": {},
     "outputs": []
    },
    {
     "cell_type": "code",
     "collapsed": false,
     "input": [
      "p = subprocess.Popen('./svm_classify test.dat model', shell=True, stdout=subprocess.PIPE, stderr=subprocess.STDOUT)\n",
      "svmlight_test_end=time.time()\n",
      "test_output= p.stdout.readlines()\n",
      "\n"
     ],
     "language": "python",
     "metadata": {},
     "outputs": []
    },
    {
     "cell_type": "code",
     "collapsed": false,
     "input": [
      "test_output\n",
      "\n"
     ],
     "language": "python",
     "metadata": {},
     "outputs": []
    },
    {
     "cell_type": "code",
     "collapsed": false,
     "input": [
      "train_output\n",
      "\n"
     ],
     "language": "python",
     "metadata": {},
     "outputs": []
    },
    {
     "cell_type": "code",
     "collapsed": false,
     "input": [],
     "language": "python",
     "metadata": {},
     "outputs": []
    }
   ],
   "metadata": {}
  }
 ]
}